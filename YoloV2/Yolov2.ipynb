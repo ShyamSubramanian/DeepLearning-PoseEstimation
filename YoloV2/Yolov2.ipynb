{
 "cells": [
  {
   "cell_type": "code",
   "execution_count": 1,
   "metadata": {},
   "outputs": [
    {
     "name": "stderr",
     "output_type": "stream",
     "text": [
      "C:\\Users\\Shyam\\Anaconda3\\lib\\site-packages\\h5py\\__init__.py:36: FutureWarning: Conversion of the second argument of issubdtype from `float` to `np.floating` is deprecated. In future, it will be treated as `np.float64 == np.dtype(float).type`.\n",
      "  from ._conv import register_converters as _register_converters\n",
      "Using TensorFlow backend.\n"
     ]
    }
   ],
   "source": [
    "# import the needed modules\n",
    "import os\n",
    "import glob\n",
    "import json\n",
    "from matplotlib.pyplot import imshow\n",
    "import scipy.io\n",
    "import scipy.misc\n",
    "import numpy as np\n",
    "from PIL import Image\n",
    "\n",
    "from keras import backend as K\n",
    "from keras.models import load_model\n",
    "\n",
    "# The below functions from the yad2k library will be used\n",
    "from yad2k.models.keras_yolo import yolo_head, yolo_eval\n",
    "\n",
    "%matplotlib inline"
   ]
  },
  {
   "cell_type": "code",
   "execution_count": 2,
   "metadata": {},
   "outputs": [],
   "source": [
    "import sys\n",
    "sys.path.append(r'c:\\users\\shyam\\appdata\\local\\programs\\python\\python36\\lib\\site-packages')"
   ]
  },
  {
   "cell_type": "code",
   "execution_count": null,
   "metadata": {},
   "outputs": [],
   "source": []
  },
  {
   "cell_type": "code",
   "execution_count": null,
   "metadata": {},
   "outputs": [],
   "source": [
    "import cv2\n",
    "vidcap = cv2.VideoCapture('Dance2.mp4')\n",
    "success,image = vidcap.read()\n",
    "count = 0\n",
    "while success:\n",
    "    cv2.imwrite(\"frames/frame%d.jpg\" % count, image)     # save frame as JPEG file      \n",
    "    success,image = vidcap.read()\n",
    "    print('Read a new frame: ', success)\n",
    "    count += 1"
   ]
  },
  {
   "cell_type": "code",
   "execution_count": null,
   "metadata": {},
   "outputs": [],
   "source": [
    "count"
   ]
  },
  {
   "cell_type": "code",
   "execution_count": null,
   "metadata": {},
   "outputs": [],
   "source": []
  },
  {
   "cell_type": "code",
   "execution_count": 3,
   "metadata": {},
   "outputs": [],
   "source": [
    "# The below provided fucntions will be used from yolo_utils.py\n",
    "from yolo_utils import read_classes, read_anchors, generate_colors, preprocess_image, draw_boxes"
   ]
  },
  {
   "cell_type": "code",
   "execution_count": null,
   "metadata": {},
   "outputs": [],
   "source": [
    "#Loading the classes and the anchor boxes that are provided in the model_data folder\n",
    "class_names = read_classes(\"coco_classes.txt\")\n",
    "anchors = read_anchors(\"yolo_anchors.txt\")\n",
    "\n",
    "#Load the pretrained model. Please refer the README file to get info on how to obtain the yolo.h5 file\n",
    "yolo_model = load_model(\"yolo.h5\")\n",
    "\n",
    "#Print the summery of the model\n",
    "yolo_model.summary()"
   ]
  },
  {
   "cell_type": "code",
   "execution_count": null,
   "metadata": {},
   "outputs": [],
   "source": [
    "images_path = os.getcwd()\n",
    "print(images_path)\n",
    "os.chdir(\"./frames\")\n",
    "print(os.getcwd())"
   ]
  },
  {
   "cell_type": "code",
   "execution_count": null,
   "metadata": {},
   "outputs": [],
   "source": [
    "file_id = []\n",
    "for file in glob.glob(\"*.jpg\"):\n",
    "    file_id.append(file)\n",
    "\n",
    "width, height = 640,360\n",
    "width = np.array(width, dtype=float)\n",
    "height = np.array(height, dtype=float)\n",
    "\n",
    "#Assign the shape of the input image to image_shapr variable\n",
    "image_shape = (height, width)\n",
    "keypoint=[]    \n",
    "\n",
    "#Convert final layer features to bounding box parameters\n",
    "yolo_outputs = yolo_head(yolo_model.output, anchors, len(class_names))\n",
    "\n",
    "#Now yolo_eval function selects the best boxes using filtering and non-max suppression techniques.\n",
    "# If you want to dive in more to see how this works, refer keras_yolo.py file in yad2k/models\n",
    "boxes, scores, classes = yolo_eval(yolo_outputs, image_shape)\n",
    "\n",
    "\n",
    "for input_image_name in file_id:\n",
    "    \n",
    "    #Obtaining the dimensions of the input image\n",
    "    \n",
    "    #input_image = Image.open(input_image_name)\n",
    "\n",
    "    #Preprocess the input image before feeding into the convolutional network\n",
    "    image, image_data = preprocess_image(input_image_name, model_image_size = (608, 608))\n",
    "\n",
    "\n",
    "    \n",
    "    # Initiate a session\n",
    "    sess = K.get_session()\n",
    "\n",
    "    #Run the session\n",
    "    out_scores, out_boxes, out_classes = sess.run([scores, boxes, classes],feed_dict={yolo_model.input:image_data,K.learning_phase(): 0})\n",
    "    \n",
    "    \n",
    "    img_id = input_image_name\n",
    "    cat_id = 1\n",
    "    \n",
    "    for i in range(len(out_boxes)):\n",
    "        keys = [\"image_id\" , \"category_id\", \"bbox\",\"score\"]\n",
    "        values = [img_id,cat_id, out_boxes[i], out_scores[i]]\n",
    "        data = dict(zip(keys,values))\n",
    "        keypoint.append(data)\n",
    "        print(data)\n",
    "keypoint"
   ]
  },
  {
   "cell_type": "code",
   "execution_count": null,
   "metadata": {},
   "outputs": [],
   "source": [
    "keypoint[0]"
   ]
  },
  {
   "cell_type": "code",
   "execution_count": null,
   "metadata": {},
   "outputs": [],
   "source": [
    "float('1.3')"
   ]
  },
  {
   "cell_type": "code",
   "execution_count": null,
   "metadata": {},
   "outputs": [],
   "source": [
    "len(keypoint)"
   ]
  },
  {
   "cell_type": "code",
   "execution_count": null,
   "metadata": {},
   "outputs": [],
   "source": [
    "for k in keypoint:\n",
    "    k[\"bbox\"] = k[\"bbox\"].tolist()"
   ]
  },
  {
   "cell_type": "code",
   "execution_count": null,
   "metadata": {},
   "outputs": [],
   "source": [
    "for k in keypoint:\n",
    "    k[\"score\"] = str(k[\"score\"])"
   ]
  },
  {
   "cell_type": "code",
   "execution_count": null,
   "metadata": {},
   "outputs": [],
   "source": [
    "type(keypoint[0]['score'])"
   ]
  },
  {
   "cell_type": "code",
   "execution_count": null,
   "metadata": {},
   "outputs": [],
   "source": [
    "\"frame10000.jpg\".split(\"frame\")[1].split('.jpg')[0]"
   ]
  },
  {
   "cell_type": "code",
   "execution_count": null,
   "metadata": {},
   "outputs": [],
   "source": [
    "l = []\n",
    "i = 0\n",
    "for k in keypoint:\n",
    "    i += 1\n",
    "    l.append(k['image_id'].split(\"frame\")[1].split('.jpg')[0])"
   ]
  },
  {
   "cell_type": "code",
   "execution_count": null,
   "metadata": {},
   "outputs": [],
   "source": [
    "l = list(map(int, l))\n",
    "l.sort()\n",
    "l"
   ]
  },
  {
   "cell_type": "code",
   "execution_count": null,
   "metadata": {},
   "outputs": [],
   "source": [
    "for i in range(301):\n",
    "    if i not in l:\n",
    "        print(i)"
   ]
  },
  {
   "cell_type": "code",
   "execution_count": null,
   "metadata": {},
   "outputs": [],
   "source": [
    "len(l)"
   ]
  },
  {
   "cell_type": "code",
   "execution_count": null,
   "metadata": {},
   "outputs": [],
   "source": []
  },
  {
   "cell_type": "code",
   "execution_count": null,
   "metadata": {},
   "outputs": [],
   "source": [
    "for k in keypoint:\n",
    "    k['id']=int(k['image_id'].split(\"frame\")[1].split('.jpg')[0])"
   ]
  },
  {
   "cell_type": "code",
   "execution_count": null,
   "metadata": {},
   "outputs": [],
   "source": [
    "type(keypoint)"
   ]
  },
  {
   "cell_type": "code",
   "execution_count": null,
   "metadata": {},
   "outputs": [],
   "source": [
    "keypoint = sorted(keypoint, key = lambda i: i['id'])"
   ]
  },
  {
   "cell_type": "code",
   "execution_count": null,
   "metadata": {},
   "outputs": [],
   "source": [
    "del keypoint[0]['id']"
   ]
  },
  {
   "cell_type": "code",
   "execution_count": null,
   "metadata": {},
   "outputs": [],
   "source": [
    "keypoint[1:]"
   ]
  },
  {
   "cell_type": "code",
   "execution_count": null,
   "metadata": {},
   "outputs": [],
   "source": [
    "for k in keypoint[1:]:\n",
    "    del k['id']"
   ]
  },
  {
   "cell_type": "code",
   "execution_count": null,
   "metadata": {},
   "outputs": [],
   "source": [
    "keypoint[2]"
   ]
  },
  {
   "cell_type": "code",
   "execution_count": null,
   "metadata": {},
   "outputs": [],
   "source": [
    "with open('bbox.json','w') as outfile:\n",
    "    json.dump(keypoint,outfile)\n"
   ]
  },
  {
   "cell_type": "code",
   "execution_count": null,
   "metadata": {},
   "outputs": [],
   "source": [
    "\n",
    "# #Print the results\n",
    "# print('Found {} boxes for {}'.format(len(out_boxes), input_image_name))\n",
    "# #Produce the colors for the bounding boxs\n",
    "# colors = generate_colors(class_names)\n",
    "# #Draw the bounding boxes\n",
    "draw_boxes(image, out_scores, out_boxes, out_classes, class_names, colors)\n",
    "# #Apply the predicted bounding boxes to the image and save it\n",
    "# image.save(os.path.join(\"out\", input_image_name), quality=90)\n",
    "# output_image = scipy.misc.imread(os.path.join(\"out\", input_image_name))\n",
    "\n",
    "\n"
   ]
  },
  {
   "cell_type": "code",
   "execution_count": null,
   "metadata": {},
   "outputs": [],
   "source": [
    "# # Display output image\n",
    "# imshow(output_image)"
   ]
  },
  {
   "cell_type": "code",
   "execution_count": null,
   "metadata": {},
   "outputs": [],
   "source": [
    "cd .."
   ]
  },
  {
   "cell_type": "code",
   "execution_count": 4,
   "metadata": {},
   "outputs": [],
   "source": [
    "import cv2\n",
    "import os\n",
    "\n",
    "image_folder = 'dance2'\n",
    "video_name = 'dancevidpose4.avi'\n",
    "\n",
    "images = [img for img in os.listdir(image_folder) if img.endswith(\".jpg\")]\n",
    "frame = cv2.imread(os.path.join(image_folder, images[0]))\n",
    "height, width, layers = frame.shape\n",
    "\n",
    "video = cv2.VideoWriter(video_name, 0, 40, (width,height))\n",
    "\n",
    "for image in images:\n",
    "    video.write(cv2.imread(os.path.join(image_folder, image)))\n",
    "\n",
    "cv2.destroyAllWindows()\n",
    "video.release()"
   ]
  },
  {
   "cell_type": "code",
   "execution_count": null,
   "metadata": {},
   "outputs": [],
   "source": [
    "width"
   ]
  },
  {
   "cell_type": "code",
   "execution_count": null,
   "metadata": {},
   "outputs": [],
   "source": [
    "height"
   ]
  },
  {
   "cell_type": "code",
   "execution_count": null,
   "metadata": {},
   "outputs": [],
   "source": [
    "for i in range(764):\n",
    "    for filename in os.listdir(\"xyz\"): \n",
    "        dst =\"Hostel\" + str(i) + \".jpg\"\n",
    "        src ='xyz'+ filename \n",
    "        dst ='xyz'+ dst \n",
    "          \n",
    "        # rename() function will \n",
    "        # rename all the files \n",
    "        os.rename(src, dst)"
   ]
  },
  {
   "cell_type": "code",
   "execution_count": null,
   "metadata": {},
   "outputs": [],
   "source": []
  },
  {
   "cell_type": "code",
   "execution_count": null,
   "metadata": {},
   "outputs": [],
   "source": []
  }
 ],
 "metadata": {
  "kernelspec": {
   "display_name": "Python 3",
   "language": "python",
   "name": "python3"
  },
  "language_info": {
   "codemirror_mode": {
    "name": "ipython",
    "version": 3
   },
   "file_extension": ".py",
   "mimetype": "text/x-python",
   "name": "python",
   "nbconvert_exporter": "python",
   "pygments_lexer": "ipython3",
   "version": "3.6.5"
  }
 },
 "nbformat": 4,
 "nbformat_minor": 2
}
